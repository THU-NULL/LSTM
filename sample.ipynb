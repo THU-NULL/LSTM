{
 "cells": [
  {
   "cell_type": "markdown",
   "id": "e23124cd96a660cb",
   "metadata": {},
   "source": [
    "# 基于LSTM模型的用电量预测\n",
    "利用时间跨度为1年，分辨率1h的负荷数据进行比较粗糙的日前预测，主要目的是过一遍基本流程\n",
    "***\n",
    "#### 调用常用库\n",
    "\n",
    "pandas处理原始CSV数据和异常值\n",
    "\n",
    "numpy进行数值计算和数组转换\n",
    "\n",
    "sklearn标准化数据和划分数据集\n",
    "\n",
    "torch创建数据加载器和训练预测模型"
   ]
  },
  {
   "cell_type": "code",
   "id": "8c4bc86efd33f73f",
   "metadata": {
    "ExecuteTime": {
     "end_time": "2025-07-01T01:03:02.240113Z",
     "start_time": "2025-07-01T01:02:48.639067Z"
    }
   },
   "source": [
    "import pandas as pd\n",
    "import numpy as np\n",
    "import torch\n",
    "from torch import nn\n",
    "from torch.utils.data import Dataset,DataLoader\n",
    "from sklearn.preprocessing import StandardScaler"
   ],
   "outputs": [],
   "execution_count": 1
  },
  {
   "cell_type": "markdown",
   "id": "5496f1c7801e8861",
   "metadata": {},
   "source": [
    "#### 读取数据，处理异常数据"
   ]
  },
  {
   "cell_type": "code",
   "id": "4c91018d0b0c7b62",
   "metadata": {
    "ExecuteTime": {
     "end_time": "2025-07-01T01:03:02.340140Z",
     "start_time": "2025-07-01T01:03:02.266736Z"
    }
   },
   "source": [
    "df=pd.read_csv('白兔F1.csv',skiprows=1,header=None,names=['timestamp','load'],encoding='gbk')#读取数据，跳过第一行，将第二行作为列名，且注意读取中文需加gbk编码\n",
    "df['timestamp']=pd.to_datetime(df['timestamp'])\n",
    "df=df.set_index('timestamp')\n",
    "df"
   ],
   "outputs": [
    {
     "data": {
      "text/plain": [
       "                      load\n",
       "timestamp                 \n",
       "2015-01-01 00:00:00  53.96\n",
       "2015-01-01 01:00:00  47.12\n",
       "2015-01-01 02:00:00  42.72\n",
       "2015-01-01 03:00:00  37.44\n",
       "2015-01-01 04:00:00  36.40\n",
       "...                    ...\n",
       "2015-12-31 20:00:00  76.40\n",
       "2015-12-31 21:00:00  69.84\n",
       "2015-12-31 22:00:00  60.71\n",
       "2015-12-31 23:00:00  59.33\n",
       "2016-01-01 00:00:00  53.23\n",
       "\n",
       "[8761 rows x 1 columns]"
      ],
      "text/html": [
       "<div>\n",
       "<style scoped>\n",
       "    .dataframe tbody tr th:only-of-type {\n",
       "        vertical-align: middle;\n",
       "    }\n",
       "\n",
       "    .dataframe tbody tr th {\n",
       "        vertical-align: top;\n",
       "    }\n",
       "\n",
       "    .dataframe thead th {\n",
       "        text-align: right;\n",
       "    }\n",
       "</style>\n",
       "<table border=\"1\" class=\"dataframe\">\n",
       "  <thead>\n",
       "    <tr style=\"text-align: right;\">\n",
       "      <th></th>\n",
       "      <th>load</th>\n",
       "    </tr>\n",
       "    <tr>\n",
       "      <th>timestamp</th>\n",
       "      <th></th>\n",
       "    </tr>\n",
       "  </thead>\n",
       "  <tbody>\n",
       "    <tr>\n",
       "      <th>2015-01-01 00:00:00</th>\n",
       "      <td>53.96</td>\n",
       "    </tr>\n",
       "    <tr>\n",
       "      <th>2015-01-01 01:00:00</th>\n",
       "      <td>47.12</td>\n",
       "    </tr>\n",
       "    <tr>\n",
       "      <th>2015-01-01 02:00:00</th>\n",
       "      <td>42.72</td>\n",
       "    </tr>\n",
       "    <tr>\n",
       "      <th>2015-01-01 03:00:00</th>\n",
       "      <td>37.44</td>\n",
       "    </tr>\n",
       "    <tr>\n",
       "      <th>2015-01-01 04:00:00</th>\n",
       "      <td>36.40</td>\n",
       "    </tr>\n",
       "    <tr>\n",
       "      <th>...</th>\n",
       "      <td>...</td>\n",
       "    </tr>\n",
       "    <tr>\n",
       "      <th>2015-12-31 20:00:00</th>\n",
       "      <td>76.40</td>\n",
       "    </tr>\n",
       "    <tr>\n",
       "      <th>2015-12-31 21:00:00</th>\n",
       "      <td>69.84</td>\n",
       "    </tr>\n",
       "    <tr>\n",
       "      <th>2015-12-31 22:00:00</th>\n",
       "      <td>60.71</td>\n",
       "    </tr>\n",
       "    <tr>\n",
       "      <th>2015-12-31 23:00:00</th>\n",
       "      <td>59.33</td>\n",
       "    </tr>\n",
       "    <tr>\n",
       "      <th>2016-01-01 00:00:00</th>\n",
       "      <td>53.23</td>\n",
       "    </tr>\n",
       "  </tbody>\n",
       "</table>\n",
       "<p>8761 rows × 1 columns</p>\n",
       "</div>"
      ]
     },
     "execution_count": 2,
     "metadata": {},
     "output_type": "execute_result"
    }
   ],
   "execution_count": 2
  },
  {
   "cell_type": "code",
   "id": "22c844d9d4725f8f",
   "metadata": {
    "ExecuteTime": {
     "end_time": "2025-07-01T01:03:02.961483Z",
     "start_time": "2025-07-01T01:03:02.954384Z"
    }
   },
   "source": [
    "df['load']=pd.to_numeric(df['load'],errors='coerce')#将load列转为数值型，遇到无法转换的值则赋值为NaN\n",
    "df['load']=np.where((df['load']<10)|(df['load']>200)|(df['load']==0),np.nan,df['load'])#格式：np.where(condition, value_if_true, value_if_false)\n",
    "df['load']=df['load'].interpolate(method='linear')#时间序列常用线性插值处理异常值"
   ],
   "outputs": [],
   "execution_count": 3
  },
  {
   "cell_type": "markdown",
   "id": "b1dc85307b627c1c",
   "metadata": {},
   "source": [
    "#### 构建dataloader"
   ]
  },
  {
   "cell_type": "code",
   "id": "537b12602a076dbd",
   "metadata": {
    "ExecuteTime": {
     "end_time": "2025-07-01T01:03:02.993593Z",
     "start_time": "2025-07-01T01:03:02.989742Z"
    }
   },
   "source": [
    "#划分数据集：6:2:2\n",
    "total_len=len(df)\n",
    "train_len=int(total_len*0.6)\n",
    "val_len=int(total_len*0.2)\n",
    "test_len=total_len-train_len-val_len\n",
    "train_df=df.iloc[:train_len]\n",
    "val_df=df.iloc[train_len:train_len+val_len]\n",
    "test_df=df.iloc[train_len+val_len:]"
   ],
   "outputs": [],
   "execution_count": 4
  },
  {
   "cell_type": "code",
   "id": "ce4aa00e3f7d8aba",
   "metadata": {
    "ExecuteTime": {
     "end_time": "2025-07-01T01:03:03.006996Z",
     "start_time": "2025-07-01T01:03:02.997613Z"
    }
   },
   "source": [
    "#标准化数据，scaler.fit_transform()函数用于计算训练数据的均值和标准差，并使用这些统计量来标准化训练数据\n",
    "scaler = StandardScaler()\n",
    "train_scaled = scaler.fit_transform(train_df)\n",
    "val_scaled = scaler.transform(val_df)#注意为避免数据泄露，应用训练集的均值和标准差训练，所以不用fit\n",
    "test_scaled = scaler.transform(test_df)"
   ],
   "outputs": [],
   "execution_count": 5
  },
  {
   "cell_type": "markdown",
   "id": "2e07f911d2c6e40",
   "metadata": {},
   "source": "Dataset包含所有样本，样本数目为len的大小，每个样本由x和y组成，x为输入，y为输出，大小分别对应window_size和horizon，其中x为window_size个连续时刻的load值，y为horizon个连续时刻的load值"
  },
  {
   "cell_type": "code",
   "id": "9b43b1518692ca94",
   "metadata": {
    "ExecuteTime": {
     "end_time": "2025-07-01T01:03:03.058663Z",
     "start_time": "2025-07-01T01:03:03.053704Z"
    }
   },
   "source": [
    "class   TimeSeriesDataset(Dataset):\n",
    "    def __init__(self,data,window_size=72,horizon=24):\n",
    "        self.data=data\n",
    "        self.window_size=window_size\n",
    "        self.horizon=horizon\n",
    "    def __len__(self):\n",
    "        return len(self.data)-self.window_size-self.horizon+1\n",
    "    def __getitem__(self, idx):\n",
    "        x = self.data[idx:idx+self.window_size]\n",
    "        y = self.data[idx+self.window_size:idx+self.window_size+self.horizon]\n",
    "        return torch.tensor(x).float(), torch.tensor(y).float().squeeze(-1)  # x仍为(72,1)y形状变为(24,)"
   ],
   "outputs": [],
   "execution_count": 6
  },
  {
   "cell_type": "code",
   "id": "6dba25d969a6042c",
   "metadata": {
    "ExecuteTime": {
     "end_time": "2025-07-01T01:03:03.132735Z",
     "start_time": "2025-07-01T01:03:03.127356Z"
    }
   },
   "source": [
    "train_dataset= TimeSeriesDataset(train_scaled,window_size=72,horizon=24)\n",
    "val_dataset= TimeSeriesDataset(val_scaled,window_size=72,horizon=24)\n",
    "test_dataset= TimeSeriesDataset(test_scaled,window_size=72,horizon=24)\n",
    "\n",
    "batch_size=32\n",
    "train_loader = DataLoader(train_dataset, batch_size=batch_size, shuffle=True)#从dataset中随机拿出来32个样本，其中x的维度：(32,72,1)，y的维度：(32,24)，始终遵循PyTorch的(batch, seq, feature)维度约定，batch[0]表示x，batch[1]表示y\n",
    "val_loader = DataLoader(val_dataset, batch_size=batch_size, shuffle=False)\n",
    "test_loader = DataLoader(test_dataset, batch_size=batch_size, shuffle=False)"
   ],
   "outputs": [],
   "execution_count": 7
  },
  {
   "cell_type": "markdown",
   "id": "740149da430529d6",
   "metadata": {},
   "source": [
    "#### 检查数据集和加载器\n",
    "第一次写代码时遇到维度不匹配问题，这一部分是调试所用"
   ]
  },
  {
   "cell_type": "code",
   "id": "a296f8eb8e0e70b0",
   "metadata": {
    "ExecuteTime": {
     "end_time": "2025-07-01T01:03:03.272467Z",
     "start_time": "2025-07-01T01:03:03.203893Z"
    }
   },
   "source": [
    "# 检查第一个batch的维度\n",
    "first_batch = next(iter(train_loader))\n",
    "print(f\"x shape: {first_batch[0].shape}\")  # 应输出 torch.Size([32,72,1])\n",
    "print(f\"y shape: {first_batch[1].shape}\")  # 应输出 torch.Size([32,24])\n",
    "\n",
    "# 检查数据内容示例\n",
    "print(\"示例x[0]:\", first_batch[0][0])  # 第一个样本的72小时历史\n",
    "print(\"对应y[0]:\", first_batch[1][0])  # 对应的24小时真值"
   ],
   "outputs": [
    {
     "name": "stdout",
     "output_type": "stream",
     "text": [
      "x shape: torch.Size([32, 72, 1])\n",
      "y shape: torch.Size([32, 24])\n",
      "示例x[0]: tensor([[-0.7763],\n",
      "        [-0.9614],\n",
      "        [-1.0259],\n",
      "        [-1.4193],\n",
      "        [-1.4193],\n",
      "        [-0.8301],\n",
      "        [ 0.1547],\n",
      "        [ 0.5225],\n",
      "        [ 0.7205],\n",
      "        [ 0.7976],\n",
      "        [ 1.6515],\n",
      "        [ 1.2322],\n",
      "        [ 0.8106],\n",
      "        [ 1.2582],\n",
      "        [ 1.3097],\n",
      "        [ 1.1139],\n",
      "        [ 1.1524],\n",
      "        [ 0.9696],\n",
      "        [ 1.2452],\n",
      "        [ 1.4947],\n",
      "        [ 1.3375],\n",
      "        [ 0.8903],\n",
      "        [ 0.9956],\n",
      "        [ 0.2989],\n",
      "        [-0.1204],\n",
      "        [-0.1720],\n",
      "        [-0.5013],\n",
      "        [-0.7378],\n",
      "        [-0.7893],\n",
      "        [-0.5528],\n",
      "        [ 0.2599],\n",
      "        [ 0.6538],\n",
      "        [ 0.9956],\n",
      "        [ 1.5592],\n",
      "        [ 1.8621],\n",
      "        [ 0.9826],\n",
      "        [ 1.6130],\n",
      "        [ 1.5073],\n",
      "        [ 1.2452],\n",
      "        [ 1.4817],\n",
      "        [ 1.5332],\n",
      "        [ 1.2707],\n",
      "        [ 1.3634],\n",
      "        [ 1.4409],\n",
      "        [ 1.4280],\n",
      "        [ 1.5073],\n",
      "        [ 1.3097],\n",
      "        [ 0.8388],\n",
      "        [ 0.1417],\n",
      "        [ 0.0108],\n",
      "        [-0.1334],\n",
      "        [-0.4085],\n",
      "        [-0.6195],\n",
      "        [-0.0819],\n",
      "        [ 0.6793],\n",
      "        [ 1.0471],\n",
      "        [ 1.0341],\n",
      "        [ 1.2582],\n",
      "        [ 2.1506],\n",
      "        [ 1.4409],\n",
      "        [ 1.5592],\n",
      "        [ 1.8343],\n",
      "        [ 1.3227],\n",
      "        [ 1.5848],\n",
      "        [ 1.7958],\n",
      "        [ 1.3634],\n",
      "        [ 1.7438],\n",
      "        [ 2.3334],\n",
      "        [ 2.1116],\n",
      "        [ 1.9266],\n",
      "        [ 1.9396],\n",
      "        [ 1.3890]])\n",
      "对应y[0]: tensor([ 8.7733e-01,  5.6102e-01,  2.8593e-01, -2.1528e-03, -2.5170e-01,\n",
      "        -2.0018e-01,  3.3969e-01,  1.1914e+00,  1.7958e+00,  1.6255e+00,\n",
      "         1.8881e+00,  1.9396e+00,  1.5332e+00,  2.0449e+00,  2.0449e+00,\n",
      "         1.9141e+00,  1.7438e+00,  1.3504e+00,  1.8083e+00,  1.7568e+00,\n",
      "         2.1632e+00,  1.8343e+00,  1.8083e+00,  1.2707e+00])\n"
     ]
    }
   ],
   "execution_count": 8
  },
  {
   "cell_type": "markdown",
   "id": "8e339e67f9dd4742",
   "metadata": {},
   "source": [
    "#### 构建模型\n",
    "![jupyter](./deepseek_mermaid_20250629_5bde39.png)\n",
    "LSTM提取特征，FC进行解码"
   ]
  },
  {
   "cell_type": "code",
   "id": "8b0032be9f969521",
   "metadata": {
    "ExecuteTime": {
     "end_time": "2025-07-01T01:03:03.834914Z",
     "start_time": "2025-07-01T01:03:03.300937Z"
    }
   },
   "source": [
    "import torch.optim as optim\n",
    "from tqdm import tqdm\n",
    "class LSTMForecaster(nn.Module):#基于LSTM的时间序列预测模型\n",
    "    def __init__(self, input_dim=1, hidden_dim=128, num_layers=2, output_dim=24):#input_dim: 输入特征的维度，表示只有时间单一变量；hidden_dim: LSTM隐藏层的维度，表示神经元数量；num_layers: LSTM的层数，注意是隐藏层；output_dim: 输出特征的维度，表示预测24小时。注意输入强制是三维张量\n",
    "        super().__init__()\n",
    "        self.lstm = nn.LSTM(\n",
    "            input_size=input_dim,\n",
    "            hidden_size=hidden_dim,\n",
    "            num_layers=num_layers,\n",
    "            batch_first=True,# 输入和输出张量的形状为(batch_size, seq_len, feature_size)\n",
    "            dropout=0.2 if num_layers > 1 else 0#, dropout: LSTM层之间的dropout概率，用于防止过拟合\n",
    "        )\n",
    "        #全连接层\n",
    "        self.fc = nn.Sequential(\n",
    "            nn.Linear(hidden_dim, 64),#线性变换128->64\n",
    "            nn.ReLU(),\n",
    "            nn.Dropout(0.2),\n",
    "            nn.Linear(64, output_dim)\n",
    "        )\n",
    "\n",
    "    def forward(self, x):\n",
    "         # [B, T] -> [B, T, 1]\n",
    "        output, _ = self.lstm(x)  # [B, T, H]\n",
    "        last_output = output[:, -1, :]  # 历史序列的结尾状态代表全局信息（最后一步已经融入前面的信息），所以只取最后一个时间步（共72小时）的输出，最后1小时的[32,128]\n",
    "        return self.fc(last_output)  # [B, output_dim]\n",
    "\n",
    "# ========== 初始化模型 ==========\n",
    "device = torch.device(\"cuda\" if torch.cuda.is_available() else \"cpu\")\n",
    "model = LSTMForecaster(\n",
    "    input_dim=1,\n",
    "    hidden_dim=128,\n",
    "    num_layers=2,\n",
    "    output_dim=24  # 关键：设置为预测长度24\n",
    ").to(device)"
   ],
   "outputs": [],
   "execution_count": 9
  },
  {
   "cell_type": "code",
   "id": "e96358cb4964d7c1",
   "metadata": {
    "ExecuteTime": {
     "end_time": "2025-07-01T01:03:05.934433Z",
     "start_time": "2025-07-01T01:03:03.863579Z"
    }
   },
   "source": [
    "\n",
    "criterion = nn.MSELoss()\n",
    "optimizer = optim.Adam(model.parameters(), lr=0.001, weight_decay=1e-5)#优化器,用于改变训练参数。weight_decay=1e-5表示正则化项的权重衰减系数,用于防止过拟合,lr=0.001表示初始学习率\n",
    "scheduler = optim.lr_scheduler.ReduceLROnPlateau(\n",
    "    optimizer, mode='min', factor=0.5, patience=3, verbose=True\n",
    ")#负责调整学习率，mode='min'表示当验证集损失不再下降时，减小学习率,factor=0.5表示学习率减半，patience=3表示在验证集损失不再下降时等待3个epoch再调整学习率,verbose=True表示在调整学习率时打印日志"
   ],
   "outputs": [
    {
     "name": "stderr",
     "output_type": "stream",
     "text": [
      "F:\\anoconda\\Lib\\site-packages\\torch\\optim\\lr_scheduler.py:62: UserWarning: The verbose parameter is deprecated. Please use get_last_lr() to access the learning rate.\n",
      "  warnings.warn(\n"
     ]
    }
   ],
   "execution_count": 10
  },
  {
   "metadata": {},
   "cell_type": "markdown",
   "source": "![jupyter](./deepseek_mermaid_20250629_7aa17d.png)",
   "id": "f27364e16dff6c90"
  },
  {
   "cell_type": "code",
   "id": "e2c03d19e9f05b7a",
   "metadata": {
    "ExecuteTime": {
     "end_time": "2025-07-01T01:03:05.971687Z",
     "start_time": "2025-07-01T01:03:05.966341Z"
    }
   },
   "source": [
    "#一个完整的训练epoch\n",
    "def train_epoch(model, loader):\n",
    "    model.train()#模型切换为训练模式\n",
    "    total_loss = 0\n",
    "    for x, y in tqdm(loader, desc=\"Training\"):#遍历loader的每一个batch,每一个batch就蕴含x和y两个变量，均已知\n",
    "        x, y = x.to(device), y.to(device)\n",
    "\n",
    "        optimizer.zero_grad()#梯度清零\n",
    "        outputs = model(x)#前向传播，输出一个预测值\n",
    "        loss = criterion(outputs, y)\n",
    "        loss.backward()\n",
    "        torch.nn.utils.clip_grad_norm_(model.parameters(), 1.0)  # 梯度裁剪\n",
    "        optimizer.step()#更新参数\n",
    "\n",
    "        total_loss += loss.item() * x.size(0)#因为loss是平均loss，所以需要乘以batch size，得到总loss\n",
    "    return total_loss / len(loader.dataset)"
   ],
   "outputs": [],
   "execution_count": 11
  },
  {
   "cell_type": "code",
   "id": "a0047d8bfd7cfd9e",
   "metadata": {
    "ExecuteTime": {
     "end_time": "2025-07-01T01:03:05.985695Z",
     "start_time": "2025-07-01T01:03:05.981074Z"
    }
   },
   "source": [
    "#一个完整的验证epoch\n",
    "def validate(model, loader):\n",
    "    model.eval()\n",
    "    total_loss = 0\n",
    "    with torch.no_grad():#验证，不需要计算梯度\n",
    "        for x, y in tqdm(loader, desc=\"Validating\"):\n",
    "            x, y = x.to(device), y.to(device)\n",
    "            outputs = model(x)\n",
    "            loss = criterion(outputs, y)\n",
    "            total_loss += loss.item() * x.size(0)\n",
    "    return total_loss / len(loader.dataset)"
   ],
   "outputs": [],
   "execution_count": 12
  },
  {
   "cell_type": "markdown",
   "id": "32885b17",
   "metadata": {},
   "source": [
    "#### 开始训练"
   ]
  },
  {
   "cell_type": "code",
   "id": "d88132c410d89cee",
   "metadata": {
    "ExecuteTime": {
     "end_time": "2025-07-01T01:03:47.079254Z",
     "start_time": "2025-07-01T01:03:06.016946Z"
    }
   },
   "source": [
    "best_val_loss = float('inf')\n",
    "patience, patience_counter = 10, 0\n",
    "\n",
    "for epoch in range(1, 51):\n",
    "    print(f\"\\nEpoch {epoch}/50\")\n",
    "    train_loss = train_epoch(model, train_loader)\n",
    "    val_loss = validate(model, val_loader)\n",
    "    scheduler.step(val_loss)\n",
    "\n",
    "    print(f\"Train Loss: {train_loss:.6f} | Val Loss: {val_loss:.6f}\")\n",
    "\n",
    "    # 早停机制，避免过拟合\n",
    "    if val_loss < best_val_loss:\n",
    "        best_val_loss = val_loss\n",
    "        patience_counter = 0\n",
    "        torch.save(model.state_dict(), \"best_model.pth\")\n",
    "        print(\"Saved best model!\")\n",
    "    else:\n",
    "        patience_counter += 1\n",
    "        if patience_counter >= patience:\n",
    "            print(f\"Early stopping at epoch {epoch}\")\n",
    "            break"
   ],
   "outputs": [
    {
     "name": "stdout",
     "output_type": "stream",
     "text": [
      "\n",
      "Epoch 1/50\n"
     ]
    },
    {
     "name": "stderr",
     "output_type": "stream",
     "text": [
      "Training: 100%|██████████| 162/162 [00:01<00:00, 88.72it/s] \n",
      "Validating: 100%|██████████| 52/52 [00:00<00:00, 294.52it/s]\n"
     ]
    },
    {
     "name": "stdout",
     "output_type": "stream",
     "text": [
      "Train Loss: 0.548801 | Val Loss: 0.207993\n",
      "Saved best model!\n",
      "\n",
      "Epoch 2/50\n"
     ]
    },
    {
     "name": "stderr",
     "output_type": "stream",
     "text": [
      "Training: 100%|██████████| 162/162 [00:00<00:00, 179.13it/s]\n",
      "Validating: 100%|██████████| 52/52 [00:00<00:00, 360.72it/s]\n"
     ]
    },
    {
     "name": "stdout",
     "output_type": "stream",
     "text": [
      "Train Loss: 0.272870 | Val Loss: 0.185678\n",
      "Saved best model!\n",
      "\n",
      "Epoch 3/50\n"
     ]
    },
    {
     "name": "stderr",
     "output_type": "stream",
     "text": [
      "Training: 100%|██████████| 162/162 [00:01<00:00, 157.21it/s]\n",
      "Validating: 100%|██████████| 52/52 [00:00<00:00, 508.25it/s]\n"
     ]
    },
    {
     "name": "stdout",
     "output_type": "stream",
     "text": [
      "Train Loss: 0.248239 | Val Loss: 0.187566\n",
      "\n",
      "Epoch 4/50\n"
     ]
    },
    {
     "name": "stderr",
     "output_type": "stream",
     "text": [
      "Training: 100%|██████████| 162/162 [00:00<00:00, 186.18it/s]\n",
      "Validating: 100%|██████████| 52/52 [00:00<00:00, 394.35it/s]\n"
     ]
    },
    {
     "name": "stdout",
     "output_type": "stream",
     "text": [
      "Train Loss: 0.243293 | Val Loss: 0.174058\n",
      "Saved best model!\n",
      "\n",
      "Epoch 5/50\n"
     ]
    },
    {
     "name": "stderr",
     "output_type": "stream",
     "text": [
      "Training: 100%|██████████| 162/162 [00:00<00:00, 162.22it/s]\n",
      "Validating: 100%|██████████| 52/52 [00:00<00:00, 357.63it/s]\n"
     ]
    },
    {
     "name": "stdout",
     "output_type": "stream",
     "text": [
      "Train Loss: 0.233137 | Val Loss: 0.168495\n",
      "Saved best model!\n",
      "\n",
      "Epoch 6/50\n"
     ]
    },
    {
     "name": "stderr",
     "output_type": "stream",
     "text": [
      "Training: 100%|██████████| 162/162 [00:01<00:00, 158.39it/s]\n",
      "Validating: 100%|██████████| 52/52 [00:00<00:00, 424.27it/s]\n"
     ]
    },
    {
     "name": "stdout",
     "output_type": "stream",
     "text": [
      "Train Loss: 0.229797 | Val Loss: 0.182164\n",
      "\n",
      "Epoch 7/50\n"
     ]
    },
    {
     "name": "stderr",
     "output_type": "stream",
     "text": [
      "Training: 100%|██████████| 162/162 [00:00<00:00, 176.63it/s]\n",
      "Validating: 100%|██████████| 52/52 [00:00<00:00, 441.44it/s]\n"
     ]
    },
    {
     "name": "stdout",
     "output_type": "stream",
     "text": [
      "Train Loss: 0.224310 | Val Loss: 0.182253\n",
      "\n",
      "Epoch 8/50\n"
     ]
    },
    {
     "name": "stderr",
     "output_type": "stream",
     "text": [
      "Training: 100%|██████████| 162/162 [00:00<00:00, 178.20it/s]\n",
      "Validating: 100%|██████████| 52/52 [00:00<00:00, 422.63it/s]\n"
     ]
    },
    {
     "name": "stdout",
     "output_type": "stream",
     "text": [
      "Train Loss: 0.222800 | Val Loss: 0.170153\n",
      "\n",
      "Epoch 9/50\n"
     ]
    },
    {
     "name": "stderr",
     "output_type": "stream",
     "text": [
      "Training: 100%|██████████| 162/162 [00:00<00:00, 172.14it/s]\n",
      "Validating: 100%|██████████| 52/52 [00:00<00:00, 439.30it/s]\n"
     ]
    },
    {
     "name": "stdout",
     "output_type": "stream",
     "text": [
      "Train Loss: 0.219537 | Val Loss: 0.181207\n",
      "\n",
      "Epoch 10/50\n"
     ]
    },
    {
     "name": "stderr",
     "output_type": "stream",
     "text": [
      "Training: 100%|██████████| 162/162 [00:00<00:00, 169.83it/s]\n",
      "Validating: 100%|██████████| 52/52 [00:00<00:00, 434.58it/s]\n"
     ]
    },
    {
     "name": "stdout",
     "output_type": "stream",
     "text": [
      "Train Loss: 0.207979 | Val Loss: 0.179725\n",
      "\n",
      "Epoch 11/50\n"
     ]
    },
    {
     "name": "stderr",
     "output_type": "stream",
     "text": [
      "Training: 100%|██████████| 162/162 [00:01<00:00, 151.30it/s]\n",
      "Validating: 100%|██████████| 52/52 [00:00<00:00, 370.95it/s]\n"
     ]
    },
    {
     "name": "stdout",
     "output_type": "stream",
     "text": [
      "Train Loss: 0.202709 | Val Loss: 0.168194\n",
      "Saved best model!\n",
      "\n",
      "Epoch 12/50\n"
     ]
    },
    {
     "name": "stderr",
     "output_type": "stream",
     "text": [
      "Training: 100%|██████████| 162/162 [00:00<00:00, 184.49it/s]\n",
      "Validating: 100%|██████████| 52/52 [00:00<00:00, 393.96it/s]\n"
     ]
    },
    {
     "name": "stdout",
     "output_type": "stream",
     "text": [
      "Train Loss: 0.201204 | Val Loss: 0.174731\n",
      "\n",
      "Epoch 13/50\n"
     ]
    },
    {
     "name": "stderr",
     "output_type": "stream",
     "text": [
      "Training: 100%|██████████| 162/162 [00:00<00:00, 166.73it/s]\n",
      "Validating: 100%|██████████| 52/52 [00:00<00:00, 424.37it/s]\n"
     ]
    },
    {
     "name": "stdout",
     "output_type": "stream",
     "text": [
      "Train Loss: 0.200504 | Val Loss: 0.164027\n",
      "Saved best model!\n",
      "\n",
      "Epoch 14/50\n"
     ]
    },
    {
     "name": "stderr",
     "output_type": "stream",
     "text": [
      "Training: 100%|██████████| 162/162 [00:00<00:00, 196.21it/s]\n",
      "Validating: 100%|██████████| 52/52 [00:00<00:00, 479.56it/s]\n"
     ]
    },
    {
     "name": "stdout",
     "output_type": "stream",
     "text": [
      "Train Loss: 0.195823 | Val Loss: 0.178797\n",
      "\n",
      "Epoch 15/50\n"
     ]
    },
    {
     "name": "stderr",
     "output_type": "stream",
     "text": [
      "Training: 100%|██████████| 162/162 [00:00<00:00, 217.84it/s]\n",
      "Validating: 100%|██████████| 52/52 [00:00<00:00, 473.46it/s]\n"
     ]
    },
    {
     "name": "stdout",
     "output_type": "stream",
     "text": [
      "Train Loss: 0.193809 | Val Loss: 0.161610\n",
      "Saved best model!\n",
      "\n",
      "Epoch 16/50\n"
     ]
    },
    {
     "name": "stderr",
     "output_type": "stream",
     "text": [
      "Training: 100%|██████████| 162/162 [00:00<00:00, 206.21it/s]\n",
      "Validating: 100%|██████████| 52/52 [00:00<00:00, 407.22it/s]\n"
     ]
    },
    {
     "name": "stdout",
     "output_type": "stream",
     "text": [
      "Train Loss: 0.192659 | Val Loss: 0.171266\n",
      "\n",
      "Epoch 17/50\n"
     ]
    },
    {
     "name": "stderr",
     "output_type": "stream",
     "text": [
      "Training: 100%|██████████| 162/162 [00:00<00:00, 199.37it/s]\n",
      "Validating: 100%|██████████| 52/52 [00:00<00:00, 499.20it/s]\n"
     ]
    },
    {
     "name": "stdout",
     "output_type": "stream",
     "text": [
      "Train Loss: 0.187440 | Val Loss: 0.164304\n",
      "\n",
      "Epoch 18/50\n"
     ]
    },
    {
     "name": "stderr",
     "output_type": "stream",
     "text": [
      "Training: 100%|██████████| 162/162 [00:00<00:00, 218.87it/s]\n",
      "Validating: 100%|██████████| 52/52 [00:00<00:00, 474.56it/s]\n"
     ]
    },
    {
     "name": "stdout",
     "output_type": "stream",
     "text": [
      "Train Loss: 0.188134 | Val Loss: 0.168269\n",
      "\n",
      "Epoch 19/50\n"
     ]
    },
    {
     "name": "stderr",
     "output_type": "stream",
     "text": [
      "Training: 100%|██████████| 162/162 [00:00<00:00, 208.75it/s]\n",
      "Validating: 100%|██████████| 52/52 [00:00<00:00, 499.76it/s]\n"
     ]
    },
    {
     "name": "stdout",
     "output_type": "stream",
     "text": [
      "Train Loss: 0.186893 | Val Loss: 0.162816\n",
      "\n",
      "Epoch 20/50\n"
     ]
    },
    {
     "name": "stderr",
     "output_type": "stream",
     "text": [
      "Training: 100%|██████████| 162/162 [00:00<00:00, 218.20it/s]\n",
      "Validating: 100%|██████████| 52/52 [00:00<00:00, 493.08it/s]\n"
     ]
    },
    {
     "name": "stdout",
     "output_type": "stream",
     "text": [
      "Train Loss: 0.174707 | Val Loss: 0.167739\n",
      "\n",
      "Epoch 21/50\n"
     ]
    },
    {
     "name": "stderr",
     "output_type": "stream",
     "text": [
      "Training: 100%|██████████| 162/162 [00:00<00:00, 216.56it/s]\n",
      "Validating: 100%|██████████| 52/52 [00:00<00:00, 504.67it/s]\n"
     ]
    },
    {
     "name": "stdout",
     "output_type": "stream",
     "text": [
      "Train Loss: 0.175450 | Val Loss: 0.159430\n",
      "Saved best model!\n",
      "\n",
      "Epoch 22/50\n"
     ]
    },
    {
     "name": "stderr",
     "output_type": "stream",
     "text": [
      "Training: 100%|██████████| 162/162 [00:00<00:00, 208.71it/s]\n",
      "Validating: 100%|██████████| 52/52 [00:00<00:00, 495.50it/s]\n"
     ]
    },
    {
     "name": "stdout",
     "output_type": "stream",
     "text": [
      "Train Loss: 0.173321 | Val Loss: 0.155678\n",
      "Saved best model!\n",
      "\n",
      "Epoch 23/50\n"
     ]
    },
    {
     "name": "stderr",
     "output_type": "stream",
     "text": [
      "Training: 100%|██████████| 162/162 [00:00<00:00, 198.17it/s]\n",
      "Validating: 100%|██████████| 52/52 [00:00<00:00, 505.98it/s]\n"
     ]
    },
    {
     "name": "stdout",
     "output_type": "stream",
     "text": [
      "Train Loss: 0.171321 | Val Loss: 0.163515\n",
      "\n",
      "Epoch 24/50\n"
     ]
    },
    {
     "name": "stderr",
     "output_type": "stream",
     "text": [
      "Training: 100%|██████████| 162/162 [00:00<00:00, 209.68it/s]\n",
      "Validating: 100%|██████████| 52/52 [00:00<00:00, 485.84it/s]\n"
     ]
    },
    {
     "name": "stdout",
     "output_type": "stream",
     "text": [
      "Train Loss: 0.172552 | Val Loss: 0.162280\n",
      "\n",
      "Epoch 25/50\n"
     ]
    },
    {
     "name": "stderr",
     "output_type": "stream",
     "text": [
      "Training: 100%|██████████| 162/162 [00:00<00:00, 212.18it/s]\n",
      "Validating: 100%|██████████| 52/52 [00:00<00:00, 502.32it/s]\n"
     ]
    },
    {
     "name": "stdout",
     "output_type": "stream",
     "text": [
      "Train Loss: 0.170326 | Val Loss: 0.161869\n",
      "\n",
      "Epoch 26/50\n"
     ]
    },
    {
     "name": "stderr",
     "output_type": "stream",
     "text": [
      "Training: 100%|██████████| 162/162 [00:00<00:00, 226.47it/s]\n",
      "Validating: 100%|██████████| 52/52 [00:00<00:00, 476.19it/s]\n"
     ]
    },
    {
     "name": "stdout",
     "output_type": "stream",
     "text": [
      "Train Loss: 0.170070 | Val Loss: 0.158217\n",
      "\n",
      "Epoch 27/50\n"
     ]
    },
    {
     "name": "stderr",
     "output_type": "stream",
     "text": [
      "Training: 100%|██████████| 162/162 [00:00<00:00, 218.15it/s]\n",
      "Validating: 100%|██████████| 52/52 [00:00<00:00, 491.16it/s]\n"
     ]
    },
    {
     "name": "stdout",
     "output_type": "stream",
     "text": [
      "Train Loss: 0.166210 | Val Loss: 0.161522\n",
      "\n",
      "Epoch 28/50\n"
     ]
    },
    {
     "name": "stderr",
     "output_type": "stream",
     "text": [
      "Training: 100%|██████████| 162/162 [00:00<00:00, 226.33it/s]\n",
      "Validating: 100%|██████████| 52/52 [00:00<00:00, 498.18it/s]\n"
     ]
    },
    {
     "name": "stdout",
     "output_type": "stream",
     "text": [
      "Train Loss: 0.165438 | Val Loss: 0.158345\n",
      "\n",
      "Epoch 29/50\n"
     ]
    },
    {
     "name": "stderr",
     "output_type": "stream",
     "text": [
      "Training: 100%|██████████| 162/162 [00:00<00:00, 215.44it/s]\n",
      "Validating: 100%|██████████| 52/52 [00:00<00:00, 493.39it/s]\n"
     ]
    },
    {
     "name": "stdout",
     "output_type": "stream",
     "text": [
      "Train Loss: 0.166126 | Val Loss: 0.159983\n",
      "\n",
      "Epoch 30/50\n"
     ]
    },
    {
     "name": "stderr",
     "output_type": "stream",
     "text": [
      "Training: 100%|██████████| 162/162 [00:00<00:00, 189.10it/s]\n",
      "Validating: 100%|██████████| 52/52 [00:00<00:00, 495.03it/s]\n"
     ]
    },
    {
     "name": "stdout",
     "output_type": "stream",
     "text": [
      "Train Loss: 0.164866 | Val Loss: 0.161858\n",
      "\n",
      "Epoch 31/50\n"
     ]
    },
    {
     "name": "stderr",
     "output_type": "stream",
     "text": [
      "Training: 100%|██████████| 162/162 [00:00<00:00, 189.75it/s]\n",
      "Validating: 100%|██████████| 52/52 [00:00<00:00, 472.83it/s]\n"
     ]
    },
    {
     "name": "stdout",
     "output_type": "stream",
     "text": [
      "Train Loss: 0.161650 | Val Loss: 0.156272\n",
      "\n",
      "Epoch 32/50\n"
     ]
    },
    {
     "name": "stderr",
     "output_type": "stream",
     "text": [
      "Training: 100%|██████████| 162/162 [00:00<00:00, 187.80it/s]\n",
      "Validating: 100%|██████████| 52/52 [00:00<00:00, 402.51it/s]\n"
     ]
    },
    {
     "name": "stdout",
     "output_type": "stream",
     "text": [
      "Train Loss: 0.161609 | Val Loss: 0.155460\n",
      "Saved best model!\n",
      "\n",
      "Epoch 33/50\n"
     ]
    },
    {
     "name": "stderr",
     "output_type": "stream",
     "text": [
      "Training: 100%|██████████| 162/162 [00:00<00:00, 191.81it/s]\n",
      "Validating: 100%|██████████| 52/52 [00:00<00:00, 463.95it/s]\n"
     ]
    },
    {
     "name": "stdout",
     "output_type": "stream",
     "text": [
      "Train Loss: 0.161144 | Val Loss: 0.155847\n",
      "\n",
      "Epoch 34/50\n"
     ]
    },
    {
     "name": "stderr",
     "output_type": "stream",
     "text": [
      "Training: 100%|██████████| 162/162 [00:00<00:00, 208.89it/s]\n",
      "Validating: 100%|██████████| 52/52 [00:00<00:00, 509.52it/s]\n"
     ]
    },
    {
     "name": "stdout",
     "output_type": "stream",
     "text": [
      "Train Loss: 0.160942 | Val Loss: 0.157436\n",
      "\n",
      "Epoch 35/50\n"
     ]
    },
    {
     "name": "stderr",
     "output_type": "stream",
     "text": [
      "Training: 100%|██████████| 162/162 [00:00<00:00, 210.44it/s]\n",
      "Validating: 100%|██████████| 52/52 [00:00<00:00, 509.40it/s]\n"
     ]
    },
    {
     "name": "stdout",
     "output_type": "stream",
     "text": [
      "Train Loss: 0.160513 | Val Loss: 0.159325\n",
      "\n",
      "Epoch 36/50\n"
     ]
    },
    {
     "name": "stderr",
     "output_type": "stream",
     "text": [
      "Training: 100%|██████████| 162/162 [00:00<00:00, 209.64it/s]\n",
      "Validating: 100%|██████████| 52/52 [00:00<00:00, 492.31it/s]\n"
     ]
    },
    {
     "name": "stdout",
     "output_type": "stream",
     "text": [
      "Train Loss: 0.157847 | Val Loss: 0.158871\n",
      "\n",
      "Epoch 37/50\n"
     ]
    },
    {
     "name": "stderr",
     "output_type": "stream",
     "text": [
      "Training: 100%|██████████| 162/162 [00:00<00:00, 198.20it/s]\n",
      "Validating: 100%|██████████| 52/52 [00:00<00:00, 457.07it/s]\n"
     ]
    },
    {
     "name": "stdout",
     "output_type": "stream",
     "text": [
      "Train Loss: 0.155825 | Val Loss: 0.157351\n",
      "\n",
      "Epoch 38/50\n"
     ]
    },
    {
     "name": "stderr",
     "output_type": "stream",
     "text": [
      "Training: 100%|██████████| 162/162 [00:00<00:00, 215.74it/s]\n",
      "Validating: 100%|██████████| 52/52 [00:00<00:00, 516.64it/s]\n"
     ]
    },
    {
     "name": "stdout",
     "output_type": "stream",
     "text": [
      "Train Loss: 0.156457 | Val Loss: 0.158909\n",
      "\n",
      "Epoch 39/50\n"
     ]
    },
    {
     "name": "stderr",
     "output_type": "stream",
     "text": [
      "Training: 100%|██████████| 162/162 [00:00<00:00, 214.33it/s]\n",
      "Validating: 100%|██████████| 52/52 [00:00<00:00, 507.86it/s]\n"
     ]
    },
    {
     "name": "stdout",
     "output_type": "stream",
     "text": [
      "Train Loss: 0.157505 | Val Loss: 0.159057\n",
      "\n",
      "Epoch 40/50\n"
     ]
    },
    {
     "name": "stderr",
     "output_type": "stream",
     "text": [
      "Training: 100%|██████████| 162/162 [00:00<00:00, 208.08it/s]\n",
      "Validating: 100%|██████████| 52/52 [00:00<00:00, 499.31it/s]\n"
     ]
    },
    {
     "name": "stdout",
     "output_type": "stream",
     "text": [
      "Train Loss: 0.155763 | Val Loss: 0.159068\n",
      "\n",
      "Epoch 41/50\n"
     ]
    },
    {
     "name": "stderr",
     "output_type": "stream",
     "text": [
      "Training: 100%|██████████| 162/162 [00:00<00:00, 213.30it/s]\n",
      "Validating: 100%|██████████| 52/52 [00:00<00:00, 496.81it/s]\n"
     ]
    },
    {
     "name": "stdout",
     "output_type": "stream",
     "text": [
      "Train Loss: 0.153491 | Val Loss: 0.159437\n",
      "\n",
      "Epoch 42/50\n"
     ]
    },
    {
     "name": "stderr",
     "output_type": "stream",
     "text": [
      "Training: 100%|██████████| 162/162 [00:00<00:00, 211.96it/s]\n",
      "Validating: 100%|██████████| 52/52 [00:00<00:00, 461.34it/s]"
     ]
    },
    {
     "name": "stdout",
     "output_type": "stream",
     "text": [
      "Train Loss: 0.153332 | Val Loss: 0.158347\n",
      "Early stopping at epoch 42\n"
     ]
    },
    {
     "name": "stderr",
     "output_type": "stream",
     "text": [
      "\n"
     ]
    }
   ],
   "execution_count": 13
  },
  {
   "metadata": {},
   "cell_type": "markdown",
   "source": "#### 测试模型",
   "id": "38df1045a4b7b46e"
  },
  {
   "cell_type": "code",
   "id": "a8209d8776ee2ce",
   "metadata": {
    "ExecuteTime": {
     "end_time": "2025-07-01T01:03:47.381461Z",
     "start_time": "2025-07-01T01:03:47.111951Z"
    }
   },
   "source": [
    "model.load_state_dict(torch.load(\"best_model.pth\"))#将最佳模型载入model\n",
    "test_loss = validate(model, test_loader)\n",
    "print(f\"\\nFinal Test Loss: {test_loss:.6f}\")\n",
    "\n",
    "# 反标准化后的测试损失计算\n",
    "def inverse_transform_eval(model, loader, scaler):\n",
    "    model.eval()\n",
    "    total_loss = 0\n",
    "    with torch.no_grad():\n",
    "        for x, y in loader:\n",
    "            x, y = x.to(device), y.to(device)\n",
    "            outputs = model(x)\n",
    "\n",
    "            # 反标准化\n",
    "            y_true = scaler.inverse_transform(y.cpu().numpy())\n",
    "            y_pred = scaler.inverse_transform(outputs.cpu().numpy())\n",
    "\n",
    "            # 计算原始尺度上的MSE\n",
    "            loss = np.mean((y_true - y_pred)**2)\n",
    "            total_loss += loss * x.size(0)\n",
    "    return total_loss / len(loader.dataset)\n",
    "\n",
    "test_loss_orig = inverse_transform_eval(model, test_loader, scaler)\n",
    "print(f\"Test Loss (Original Scale): {test_loss_orig:.4f}\")"
   ],
   "outputs": [
    {
     "name": "stderr",
     "output_type": "stream",
     "text": [
      "Validating: 100%|██████████| 52/52 [00:00<00:00, 481.17it/s]"
     ]
    },
    {
     "name": "stdout",
     "output_type": "stream",
     "text": [
      "\n",
      "Final Test Loss: 0.471807\n"
     ]
    },
    {
     "name": "stderr",
     "output_type": "stream",
     "text": [
      "\n"
     ]
    },
    {
     "name": "stdout",
     "output_type": "stream",
     "text": [
      "Test Loss (Original Scale): 235.0462\n"
     ]
    }
   ],
   "execution_count": 14
  },
  {
   "cell_type": "code",
   "id": "530f0abb3a84b559",
   "metadata": {
    "ExecuteTime": {
     "end_time": "2025-07-01T01:03:49.256507Z",
     "start_time": "2025-07-01T01:03:47.406300Z"
    }
   },
   "source": [
    "#可视化\n",
    "import matplotlib.pyplot as plt\n",
    "def plot_predictions(model, sample, scaler):\n",
    "    model.eval()\n",
    "    x, y_true = sample#等价于x=sample[0], y_true=sample[1]\n",
    "    with torch.no_grad():\n",
    "        y_pred = model(x.unsqueeze(0).to(device)).cpu()\n",
    "\n",
    "    # 反标准化+\n",
    "    x = scaler.inverse_transform(x.numpy().reshape(-1, 1)).flatten()\n",
    "    y_true = scaler.inverse_transform(y_true.numpy().reshape(-1, 1)).flatten()\n",
    "    y_pred = scaler.inverse_transform(y_pred.numpy().reshape(-1, 1)).flatten()\n",
    "\n",
    "    plt.figure(figsize=(12, 6))\n",
    "    plt.plot(x, label='History')\n",
    "    plt.plot(range(len(x), len(x)+len(y_true)), y_true, 'g-', label='True Future')\n",
    "\n",
    "    plt.plot(range(len(x), len(x)+len(y_pred)), y_pred, 'r--', label='Predicted')\n",
    "    plt.legend()\n",
    "    plt.show()\n",
    "\n",
    "# 使用测试集第一个样本\n",
    "plot_predictions(model, test_dataset[0], scaler)"
   ],
   "outputs": [
    {
     "data": {
      "text/plain": [
       "<Figure size 1200x600 with 1 Axes>"
      ],
      "image/png": "[encoded data removed]"
     },
     "metadata": {},
     "output_type": "display_data"
    }
   ],
   "execution_count": 15
  },
  {
   "cell_type": "code",
   "id": "a78c6cc6d833ba64",
   "metadata": {
    "ExecuteTime": {
     "end_time": "2025-07-01T01:03:49.533835Z",
     "start_time": "2025-07-01T01:03:49.304924Z"
    }
   },
   "source": [
    "#进行真正的预测\n",
    "model.load_state_dict(torch.load('best_model.pth'))\n",
    "model.eval()\n",
    "last_idx=len(test_dataset)-1\n",
    "x_last,y_last_true=test_dataset[last_idx]\n",
    "x_last=x_last.unsqueeze(0).to(device)\n",
    "with torch.no_grad():\n",
    "    y_pred_scaled=model(x_last).cpu().numpy().squeeze()\n",
    "# 6. 反标准化\n",
    "# 将预测结果转换为二维数组进行反标准化\n",
    "y_pred_scaled_2d = y_pred_scaled.reshape(-1, 1)#转化为一个列数为1的二维数组（-1表示行数自动推断）\n",
    "y_pred = scaler.inverse_transform(y_pred_scaled_2d).flatten()#逆变换，flatten将二维数组转换为一维数组\n",
    "\n",
    "# 8. 准备时间戳\n",
    "last_timestamp = test_df.index[-1]\n",
    "future_hours = pd.date_range(\n",
    "    start=last_timestamp + pd.Timedelta(hours=1),\n",
    "    periods=24,\n",
    "    freq='H'\n",
    ")\n",
    "\n",
    "# 9. 可视化预测结果\n",
    "plt.figure(figsize=(14, 6))\n",
    "plt.plot(future_hours, y_pred, 'r--', label='Predicted', marker='x')\n",
    "plt.title('24-Hour Electricity Load Forecast')\n",
    "plt.xlabel('Timestamp')\n",
    "plt.ylabel('Load (MW)')\n",
    "plt.legend()\n",
    "plt.grid(True)\n",
    "plt.xticks(rotation=45)\n",
    "plt.tight_layout()\n",
    "plt.show()\n",
    "\n",
    "# 10. 输出预测结果表格\n",
    "prediction_df = pd.DataFrame({\n",
    "    'timestamp': future_hours,\n",
    "    'predicted_load': y_pred.astype('float64').round(2)\n",
    "})\n",
    "print(prediction_df.round(2))\n",
    "prediction_df.to_csv('prediction.csv', index=False)"
   ],
   "outputs": [
    {
     "name": "stderr",
     "output_type": "stream",
     "text": [
      "C:\\Users\\OMEN\\AppData\\Local\\Temp\\ipykernel_31212\\4183742339.py:16: FutureWarning: 'H' is deprecated and will be removed in a future version, please use 'h' instead.\n",
      "  future_hours = pd.date_range(\n"
     ]
    },
    {
     "data": {
      "text/plain": [
       "<Figure size 1400x600 with 1 Axes>"
      ],
      "image/png": "[encoded data removed]"
     },
     "metadata": {},
     "output_type": "display_data"
    },
    {
     "name": "stdout",
     "output_type": "stream",
     "text": [
      "             timestamp  predicted_load\n",
      "0  2016-01-01 01:00:00           47.31\n",
      "1  2016-01-01 02:00:00           42.94\n",
      "2  2016-01-01 03:00:00           39.34\n",
      "3  2016-01-01 04:00:00           38.42\n",
      "4  2016-01-01 05:00:00           42.16\n",
      "5  2016-01-01 06:00:00           51.50\n",
      "6  2016-01-01 07:00:00           64.74\n",
      "7  2016-01-01 08:00:00           77.64\n",
      "8  2016-01-01 09:00:00           86.14\n",
      "9  2016-01-01 10:00:00           89.60\n",
      "10 2016-01-01 11:00:00           88.09\n",
      "11 2016-01-01 12:00:00           84.23\n",
      "12 2016-01-01 13:00:00           81.06\n",
      "13 2016-01-01 14:00:00           79.98\n",
      "14 2016-01-01 15:00:00           80.62\n",
      "15 2016-01-01 16:00:00           82.93\n",
      "16 2016-01-01 17:00:00           86.90\n",
      "17 2016-01-01 18:00:00           90.64\n",
      "18 2016-01-01 19:00:00           91.56\n",
      "19 2016-01-01 20:00:00           88.42\n",
      "20 2016-01-01 21:00:00           81.37\n",
      "21 2016-01-01 22:00:00           71.75\n",
      "22 2016-01-01 23:00:00           61.65\n",
      "23 2016-01-02 00:00:00           53.91\n"
     ]
    }
   ],
   "execution_count": 16
  },
  {
   "metadata": {
    "ExecuteTime": {
     "end_time": "2025-07-01T01:03:49.546304Z",
     "start_time": "2025-07-01T01:03:49.543643Z"
    }
   },
   "cell_type": "code",
   "source": "",
   "id": "581a01bec25c1a72",
   "outputs": [],
   "execution_count": null
  }
 ],
 "metadata": {
  "kernelspec": {
   "display_name": "Python 3.12",
   "language": "python",
   "name": "python3.12"
  },
  "language_info": {
   "codemirror_mode": {
    "name": "ipython",
    "version": 2
   },
   "file_extension": ".py",
   "mimetype": "text/x-python",
   "name": "python",
   "nbconvert_exporter": "python",
   "pygments_lexer": "ipython2",
   "version": "2.7.6"
  }
 },
 "nbformat": 4,
 "nbformat_minor": 5
}
